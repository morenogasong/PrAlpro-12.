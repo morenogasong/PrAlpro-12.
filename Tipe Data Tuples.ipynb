{
  "nbformat": 4,
  "nbformat_minor": 0,
  "metadata": {
    "colab": {
      "provenance": []
    },
    "kernelspec": {
      "name": "python3",
      "display_name": "Python 3"
    },
    "language_info": {
      "name": "python"
    }
  },
  "cells": [
    {
      "cell_type": "markdown",
      "source": [
        "**Latihan 11.1**\n",
        "\n",
        "Buatlah program untuk melakukan pengecekan apakah semua anggota yang ada didalam tuple sama.\n",
        "\n",
        "Contoh:\n",
        "\n",
        "tA= (90, 90, 90, 90)\n",
        "\n",
        "Output\n",
        "\n",
        "True"
      ],
      "metadata": {
        "id": "m0ZSg-C99JAu"
      }
    },
    {
      "cell_type": "code",
      "source": [
        "def cek_tuple(t):\n",
        "    pertama = t[0]\n",
        "    for i in t[1:]:\n",
        "        if i != pertama:\n",
        "            return False\n",
        "    return True\n",
        "\n",
        "tA = (90, 90, 90, 90)\n",
        "print(cek_tuple(tA))\n",
        "\n",
        "tB = (90, 80, 90, 90)\n",
        "print(cek_tuple(tB))"
      ],
      "metadata": {
        "colab": {
          "base_uri": "https://localhost:8080/"
        },
        "id": "WveEIpmZ9M4_",
        "outputId": "5e0e34d6-e035-4e9b-f62b-f52fd73243f5"
      },
      "execution_count": 1,
      "outputs": [
        {
          "output_type": "stream",
          "name": "stdout",
          "text": [
            "True\n",
            "False\n"
          ]
        }
      ]
    },
    {
      "cell_type": "markdown",
      "source": [
        "**Latihan 11.2**\n",
        "\n",
        "Buatlah program dengan menggunakan tuple yang dapat melalakukan proses seperti pada kasus 11.1, Gunakan data diri anda masing-masing dan lakukan perubahan supaya didapatkan output seperti contoh berikut ini :\n",
        "\n",
        "Contoh:\n",
        "\n",
        "Data: ('Matahari Bhakti Nendya', '22064091', 'Bantul, DI Yogyakarta')\n",
        "\n",
        "\n",
        "NIM : 22064091\n",
        "\n",
        "NAMA : Matahari Bhakti Nendya\n",
        "\n",
        "ALAMAT : Bantul, DI Yogyakarta\n",
        "\n",
        "NIM: ('2', '2', '0', '6', '4', '0', '9', '1')\n",
        "\n",
        "NAMA DEPAN: ('a', 't', 'a', 'h', 'a', 'r', 'i')\n",
        "\n",
        "NAMA TERBALIK: ('Nendya', 'Bhakti', 'Matahari')\n"
      ],
      "metadata": {
        "id": "GtavyBT-9dn9"
      }
    },
    {
      "cell_type": "code",
      "source": [
        "data = ('Moreno Emanuel Gasong', '71231027', 'Palopo, Sulawesi Selatan')\n",
        "\n",
        "nama, nim, alamat = data\n",
        "\n",
        "print(f\"NIM : {nim}\")\n",
        "print(f\"Nama : {nama}\")\n",
        "print(f\"Alamat: {alamat}\")\n",
        "\n",
        "nim_k = tuple(char for char in nim)\n",
        "print(f\"NIM: {nim_k}\")\n",
        "\n",
        "nama_pertama = nama.split()[0]\n",
        "nama_pertama_k = tuple(char for char in nama_pertama)\n",
        "print(f\"Nama Depan : {nama_pertama_k}\")\n",
        "\n",
        "nama_k = nama.split()[::-1]\n",
        "print(f\"Nama terbalik : {tuple(nama_k)}\")"
      ],
      "metadata": {
        "colab": {
          "base_uri": "https://localhost:8080/"
        },
        "id": "lRX4VZqP9lXB",
        "outputId": "58f0063f-b7b7-4bb8-e3f6-3a296fc9c829"
      },
      "execution_count": 2,
      "outputs": [
        {
          "output_type": "stream",
          "name": "stdout",
          "text": [
            "NIM : 71231027\n",
            "Nama : Moreno Emanuel Gasong\n",
            "Alamat: Palopo, Sulawesi Selatan\n",
            "NIM: ('7', '1', '2', '3', '1', '0', '2', '7')\n",
            "Nama Depan : ('M', 'o', 'r', 'e', 'n', 'o')\n",
            "Nama terbalik : ('Gasong', 'Emanuel', 'Moreno')\n"
          ]
        }
      ]
    },
    {
      "cell_type": "markdown",
      "source": [
        "**Latihan 11.3**\n",
        "\n",
        "Buatlah program untuk menghitung distribusi jam dalam satu hari dimana ada pesan yang diterima dari setiap email yang masuk. Gunakan file mbox-short.txt untuk sebagai datanya. Berikut ini adalah contoh output dari programmnya.\n",
        "\n",
        "Contoh:\n",
        "\n",
        "Enter a file name: mbox-short.txt\n",
        "\n",
        "04 3\n",
        "\n",
        "06 1\n",
        "\n",
        "07 1\n",
        "\n",
        "09 2\n",
        "\n",
        "10 3\n",
        "\n",
        "11 6\n",
        "\n",
        "14 1\n",
        "\n",
        "15 2\n",
        "\n",
        "16 4\n",
        "\n",
        "17 2\n",
        "\n",
        "18 1\n",
        "\n",
        "19 1\n"
      ],
      "metadata": {
        "id": "fO9L6I_Z9oT1"
      }
    },
    {
      "cell_type": "code",
      "source": [
        "filename = input(\"Enter a file name: \")\n",
        "\n",
        "try:\n",
        "    file = open(filename)\n",
        "except:\n",
        "    print(\"File tidak dapat dibuka:\", filename)\n",
        "    exit()\n",
        "\n",
        "counts = dict()\n",
        "\n",
        "for line in file:\n",
        "    line = line.strip()\n",
        "    if line.startswith('From '):\n",
        "        words = line.split()\n",
        "        time = words[5]\n",
        "        hour = time.split(':')[0]\n",
        "        counts[hour] = counts.get(hour, 0) + 1\n",
        "\n",
        "file.close()\n",
        "sorted_counts = sorted(counts.items())\n",
        "\n",
        "for hour, count in sorted_counts:\n",
        "    print(hour, count)\n"
      ],
      "metadata": {
        "id": "Nn-zgM-v-DYD"
      },
      "execution_count": null,
      "outputs": []
    }
  ]
}